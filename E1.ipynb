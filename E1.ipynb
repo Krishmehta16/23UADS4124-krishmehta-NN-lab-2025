import numpy as np

class Perceptron:
    def __init__(self, input_size, learning_rate=0.1, epochs=100):
        np.random.seed(42)  # Ensure reproducibility
        self.weights = np.random.rand(input_size + 1)  # +1 for bias
        self.lr = learning_rate
        self.epochs = epochs
    
    def activation(self, x):
        return 1 if x >= 0 else 0
    
    def predict(self, x):
        x = np.insert(x, 0, 1)  # Add bias term
        return self.activation(np.dot(self.weights, x))
    
    def train(self, X, y):
        for epoch in range(self.epochs):
            for i in range(len(X)):
                x_i = np.insert(X[i], 0, 1)  # Add bias term
                y_pred = self.activation(np.dot(self.weights, x_i))
                self.weights += self.lr * (y[i] - y_pred) * x_i  # Update rule
    
    def evaluate(self, X, y):
        correct = sum(self.predict(x) == y[i] for i, x in enumerate(X))
        accuracy = correct / len(y)
        return accuracy

# NAND Truth Table
X_nand = np.array([[0, 0], [0, 1], [1, 0], [1, 1]])
y_nand = np.array([1, 1, 1, 0])

# XOR Truth Table (not linearly separable)
X_xor = np.array([[0, 0], [0, 1], [1, 0], [1, 1]])
y_xor = np.array([0, 1, 1, 0])

nand_perceptron = Perceptron(input_size=2)
nand_perceptron.train(X_nand, y_nand)
nand_accuracy = nand_perceptron.evaluate(X_nand, y_nand)
print(f"NAND Perceptron Accuracy: {nand_accuracy * 100:.2f}%")

xor_perceptron = Perceptron(input_size=2)
xor_perceptron.train(X_xor, y_xor)
xor_accuracy = xor_perceptron.evaluate(X_xor, y_xor)
print(f"XOR Perceptron Accuracy: {xor_accuracy * 100:.2f}%")

